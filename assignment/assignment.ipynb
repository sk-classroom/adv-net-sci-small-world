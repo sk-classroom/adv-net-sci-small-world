{
 "cells": [
  {
   "cell_type": "markdown",
   "id": "40c492b7",
   "metadata": {},
   "source": [
    "# Assignment\n",
    "\n",
    "In this assignment, we will compute the average path length of a network of scientists. Please see the README in the data folder for more details on the network.\n",
    "\n",
    "Complete the following tasks and upload your notebook to your GitHub repository.\n",
    "\n",
    "1. Fill in the black functions, marked by, \"\\#TODO\", in the notebook\n",
    "2. Update this notebook by using `git add`, `git commit`, and then `git push`.\n",
    "3. The notebook will be automatically graded, and your score will be shown on GitHub. See [how to check the results on GitHub](https://docs.github.com/en/education/manage-coursework-with-github-classroom/learn-with-github-classroom/view-autograding-results)\n",
    "\n",
    "Dont's:\n",
    "- Do not import any libraries except for the ones that are already imported. The grading script will not work if you import additional libraries.\n",
    "- Do not change the name of the functions. The grading script will not work if you change the name of the functions.\n",
    "- DO not remove the cells with tag \"gradable\". If you happen to remove the cells with tag \"gradable\", recreate the cell and add the tag \"gradable\" to the cell.\n",
    "\n",
    "Do's:\n",
    "- Make the code clearn and easy to understand. Consider using linters & formatters such as `black`. [Youtube: Linters and fixers: never worry about code formatting again (Vim + Ale + Flake8 & Black for Python) by Yong-Yeol Ahn](https://www.youtube.com/watch?v=4FKPySR6HLk)\n",
    "- You can add additional cells as you like. If you want to include the additional cells in the grading, you need to add the tag \"gradable\" to the cell. Otherwise, your additional cells will be stripped out when grading. \n",
    "\n",
    "## Load the network"
   ]
  },
  {
   "cell_type": "code",
   "execution_count": null,
   "id": "f7868fce",
   "metadata": {
    "tags": [
     "non-grading-item"
    ]
   },
   "outputs": [],
   "source": [
    "from scipy import sparse\n",
    "import pandas as pd\n",
    "import igraph\n",
    "import numpy as np\n",
    "\n",
    "edge_table = pd.read_csv(\"../data/edge_coauthorship.csv\")\n",
    "\n",
    "src, trg = edge_table[\"src\"], edge_table[\"trg\"]\n",
    "g = igraph.Graph.TupleList(list(zip(src, trg)), directed=False)"
   ]
  },
  {
   "cell_type": "markdown",
   "id": "743fff60",
   "metadata": {},
   "source": [
    "The size of the networks:"
   ]
  },
  {
   "cell_type": "code",
   "execution_count": null,
   "id": "35928355",
   "metadata": {},
   "outputs": [],
   "source": [
    "print(\"Number of nodes:\", g.vcount())\n",
    "print(\"Number of edges:\", g.ecount())"
   ]
  },
  {
   "cell_type": "markdown",
   "id": "2b822f8b",
   "metadata": {},
   "source": [
    "# Connected components\n",
    "\n",
    "How many connected components?"
   ]
  },
  {
   "cell_type": "code",
   "execution_count": null,
   "id": "270b0f15",
   "metadata": {
    "tags": [
     "non-grading-item"
    ]
   },
   "outputs": [],
   "source": [
    "def count_connected_components(g):\n",
    "    return len(g.connected_components())\n",
    "\n",
    "print(\"Number of connected components:\", count_connected_components(g))"
   ]
  },
  {
   "cell_type": "markdown",
   "id": "9940230d",
   "metadata": {},
   "source": [
    "# Largest connected component"
   ]
  },
  {
   "cell_type": "code",
   "execution_count": null,
   "id": "2560eb90",
   "metadata": {
    "tags": [
     "gradable"
    ]
   },
   "outputs": [],
   "source": [
    "#TODO\n",
    "def get_largest_connected_component(g):\n",
    "    \"\"\"\n",
    "    Get the largest connected component of the graph.\n",
    "\n",
    "    Parameters\n",
    "    ----------\n",
    "    g : igraph.Graph\n",
    "        The graph to get the largest connected component from.\n",
    "\n",
    "    Returns\n",
    "    -------\n",
    "    igraph.Graph\n",
    "        The largest connected component.\n",
    "    \"\"\"\n",
    "    pass"
   ]
  },
  {
   "cell_type": "code",
   "execution_count": null,
   "id": "b4e7e0a8",
   "metadata": {},
   "outputs": [],
   "source": [
    "gs = get_largest_connected_component(g)\n",
    "print(gs)"
   ]
  },
  {
   "cell_type": "markdown",
   "id": "4a29b705",
   "metadata": {},
   "source": [
    "# Compute the average path length\n",
    "\n",
    "Let us compute the average path legnth between two random nodes. As our network has more than 10,000 nodes, it is not practical to compute the shortest path length between all pairs of nodes. Instead, we perform an estimation by randomly sampling two nodes sufficiently many times and compute the average path length.\n"
   ]
  },
  {
   "cell_type": "code",
   "execution_count": null,
   "id": "96d0b133",
   "metadata": {
    "lines_to_next_cell": 0,
    "tags": [
     "gradable"
    ]
   },
   "outputs": [],
   "source": [
    "# TODO: Implement the function. The function is partially implemented below.\n",
    "def get_average_path_length(g, n_samples=100):\n",
    "    \"\"\"\n",
    "    Get the average path length between two random nodes.\n",
    "    \"\"\"\n",
    "\n",
    "    # Pick two random distinct node pairs\n",
    "    n_nodes = g.vcount()\n",
    "    while True:\n",
    "        src = np.random.choice(n_nodes, n_samples)\n",
    "        trg = np.random.choice(n_nodes, n_samples)\n",
    "\n",
    "        # If all the two nodes are distinct\n",
    "        # (We do not want to have two nodes to be the same node, which results in the path length of 0, leading to the underestimation of the average path length)\n",
    "        if np.all(src != trg):\n",
    "            break\n",
    "\n",
    "    # Compute the average shortest path length between the sampled nodes\n",
    "    path_lengths = ...\n",
    "\n",
    "    # Return the average path length\n",
    "    return np.mean(path_lengths)"
   ]
  },
  {
   "cell_type": "code",
   "execution_count": null,
   "id": "9e8d7a07",
   "metadata": {
    "tags": [
     "non-grading-item"
    ]
   },
   "outputs": [],
   "source": [
    "ave_path_length = get_average_path_length(gs)\n",
    "\n",
    "print(\"Average path length:\", ave_path_length)"
   ]
  }
 ],
 "metadata": {
  "kernelspec": {
   "display_name": "Python 3",
   "language": "python",
   "name": "python3"
  }
 },
 "nbformat": 4,
 "nbformat_minor": 5
}
